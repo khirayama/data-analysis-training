{
 "nbformat": 4,
 "nbformat_minor": 2,
 "metadata": {
  "language_info": {
   "name": "python",
   "codemirror_mode": {
    "name": "ipython",
    "version": 3
   },
   "version": "3.7.4-final"
  },
  "orig_nbformat": 2,
  "file_extension": ".py",
  "mimetype": "text/x-python",
  "name": "python",
  "npconvert_exporter": "python",
  "pygments_lexer": "ipython3",
  "version": 3,
  "kernelspec": {
   "name": "python37464bitbasecondacff26f216ef14249968ccd05a5296b34",
   "display_name": "Python 3.7.4 64-bit ('base': conda)"
  }
 },
 "cells": [
  {
   "cell_type": "code",
   "execution_count": 1,
   "metadata": {},
   "outputs": [],
   "source": [
    "import numpy as np\n",
    "import pandas as pd\n",
    "import matplotlib.pyplot as plt\n",
    "%matplotlib inline\n",
    "from mpl_toolkits.mplot3d import Axes3D\n",
    "\n",
    "from sklearn.decomposition import PCA\n",
    "from sklearn.preprocessing import StandardScaler"
   ]
  },
  {
   "cell_type": "code",
   "execution_count": 2,
   "metadata": {},
   "outputs": [
    {
     "name": "stdout",
     "output_type": "stream",
     "text": "食料       住居    光熱・水道    家具・家事     被服及び     保健医療    交通・通信       教育  \\\n都道府県                                                                           \n札幌市   819,536  279,764  228,330  103,893  129,292   99,902  442,564  124,799   \n青森市   790,368  259,971  295,102   96,173   98,267  115,529  427,590   96,241   \n盛岡市   771,420  246,223  250,260  102,652  142,183  123,152  438,431  144,845   \n仙台市   862,052  240,690  197,006  117,818  116,682  109,467  379,888  150,622   \n秋田市   835,325  226,152  296,036  111,587  127,798  133,474  496,526  111,430   \n\n         教養娯楽      諸雑費  \n都道府県                    \n札幌市   276,976  218,769  \n青森市   245,912  232,403  \n盛岡市   276,140  286,892  \n仙台市   317,874  280,381  \n秋田市   280,440  238,857  \n"
    }
   ],
   "source": [
    "data_prefecture = pd.read_csv(\"data/data_prefecture_category.csv\", encoding='utf-8', index_col=0)\n",
    "print(data_prefecture.head())"
   ]
  },
  {
   "cell_type": "code",
   "execution_count": null,
   "metadata": {},
   "outputs": [],
   "source": []
  }
 ]
}