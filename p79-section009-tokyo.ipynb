{
 "nbformat": 4,
 "nbformat_minor": 2,
 "metadata": {
  "language_info": {
   "name": "python",
   "codemirror_mode": {
    "name": "ipython",
    "version": 3
   },
   "version": "3.6.2-final"
  },
  "orig_nbformat": 2,
  "file_extension": ".py",
  "mimetype": "text/x-python",
  "name": "python",
  "npconvert_exporter": "python",
  "pygments_lexer": "ipython3",
  "version": 3,
  "kernelspec": {
   "name": "python36264bitanaconda3500pyenv00fbc43cdd1b40f5b2fb14540e8b3948",
   "display_name": "Python 3.6.2 64-bit ('anaconda3-5.0.0': pyenv)"
  }
 },
 "cells": [
  {
   "cell_type": "code",
   "execution_count": 4,
   "metadata": {},
   "outputs": [],
   "source": [
    "import numpy as np\n",
    "import matplotlib as plt\n",
    "import pandas as pd\n",
    "import random\n",
    "%matplotlib inline\n",
    "import seaborn as sns\n",
    "from sklearn.linear_model import LinearRegression\n",
    "from sklearn.model_selection import train_test_split\n",
    "\n",
    "import requests\n",
    "import json\n",
    "import re"
   ]
  },
  {
   "cell_type": "code",
   "execution_count": 5,
   "metadata": {},
   "outputs": [],
   "source": [
    "# url_path = \"https://www.land.mlit.go.jp/webland/api/TradeListSearch?from=20171&to=20184&area=13\"\n",
    "# request_result = requests.get(url_path)\n",
    "# data_json = request_result.json()[\"data\"]\n",
    "# print(len(data_json))\n",
    "# print(data_json[0])"
   ]
  },
  {
   "cell_type": "code",
   "execution_count": 6,
   "metadata": {},
   "outputs": [],
   "source": [
    "# data_pd = pd.io.json.json_normalize(data_json)\n",
    "# print(data_pd.shape)\n",
    "# print(data_pd.head(10))\n",
    "# https://www.land.mlit.go.jp/webland/api.html\n",
    "# https://www.land.mlit.go.jp/webland/download.html"
   ]
  },
  {
   "cell_type": "code",
   "execution_count": 7,
   "metadata": {},
   "outputs": [],
   "source": [
    "data_from_csv = pd.read_csv(\"data/13_Tokyo_20171_20184.csv\", encoding='cp932')\n",
    "# print(data_from_csv.shape)\n",
    "# print(data_from_csv.iloc[0])\n",
    "# print(data_from_csv.head(10))\n",
    "# print(data_from_csv[\"種類\"].unique())"
   ]
  },
  {
   "cell_type": "code",
   "execution_count": 8,
   "metadata": {},
   "outputs": [],
   "source": [
    "data_used_apartment = data_from_csv.query('種類 == \"中古マンション等\"')\n",
    "# print(data_used_apartment.shape)\n",
    "# print(data_used_apartment.isnull().sum())"
   ]
  },
  {
   "cell_type": "code",
   "execution_count": 14,
   "metadata": {},
   "outputs": [
    {
     "name": "stdout",
     "output_type": "stream",
     "text": "(30956, 9)\n(28442, 9)\n最寄駅：距離（分）           3\n間取り              １ＬＤＫ\n面積（㎡）              35\n建築年             昭和60年\n建物の構造             ＳＲＣ\n建ぺい率（％）            80\n容積率（％）            700\n市区町村名            千代田区\n取引価格（総額）     24000000\nName: 0, dtype: object\n"
    }
   ],
   "source": [
    "columns_name_list = [\"最寄駅：距離（分）\", \"間取り\", \"面積（㎡）\", \"建築年\", \"建物の構造\", \"建ぺい率（％）\", \"容積率（％）\", \"市区町村名\", \"取引価格（総額）\"]\n",
    "data_selected = data_used_apartment[columns_name_list]\n",
    "print(data_selected.shape)\n",
    "\n",
    "data_selected_dropna = data_selected.dropna(how='any') # 1つでもNaNデータを含む行を削除\n",
    "print(data_selected_dropna.shape)\n",
    "print(data_selected_dropna.iloc[0])"
   ]
  },
  {
   "cell_type": "code",
   "execution_count": 22,
   "metadata": {},
   "outputs": [],
   "source": [
    "# print(data_selected_dropna[\"建築年\"].unique())\n",
    "data_selected_dropna = data_selected_dropna[data_selected_dropna[\"建築年\"].str.match('^平成|昭和')]\n",
    "# print(data_selected_dropna[\"建築年\"].unique())\n",
    "\n",
    "wareki_to_seireki = {'昭和': 1926-1, '平成': 1989-1}\n",
    "\n",
    "building_year_list = data_selected_dropna[\"建築年\"]\n",
    "\n",
    "building_age_list = []\n",
    "for building_year in building_year_list:\n",
    "    # 昭和x年 -> 昭和, xに変換、平成x年 -> 平成, xに変換\n",
    "    building_year_split = re.search(r'(.+?)([0-9]+|元)年', building_year)\n",
    "    # 西暦に変換\n",
    "    seireki = wareki_to_seireki[building_year_split.groups()[0]] + int(building_year_split.groups()[1])\n",
    "\n",
    "    building_age = 2019 - seireki\n",
    "    building_age_list.append(building_age)\n",
    "\n",
    "data_selected_dropna[\"築年数\"] = building_age_list\n",
    "data_added_building_age = data_selected_dropna.drop(\"建築年\", axis=1)\n",
    "# print(data_added_building_age.head())"
   ]
  },
  {
   "cell_type": "code",
   "execution_count": 25,
   "metadata": {},
   "outputs": [
    {
     "name": "stdout",
     "output_type": "stream",
     "text": "(28438, 87)\n最寄駅：距離（分）               3\n面積（㎡）                  35\n築年数                    34\n建ぺい率（％）                80\n容積率（％）                700\n取引価格（総額）         24000000\n間取り_スタジオ                0\n間取り_１ＤＫ                 0\n間取り_１ＤＫ＋Ｓ               0\n間取り_１Ｋ                  0\n間取り_１Ｋ＋Ｓ                0\n間取り_１ＬＤＫ                1\n間取り_１ＬＤＫ＋Ｓ              0\n間取り_１Ｒ                  0\n間取り_２ＤＫ                 0\n間取り_２ＤＫ＋Ｓ               0\n間取り_２Ｋ                  0\n間取り_２Ｋ＋Ｓ                0\n間取り_２ＬＤＫ                0\n間取り_２ＬＤＫ＋Ｓ              0\n間取り_３ＤＫ                 0\n間取り_３ＤＫ＋Ｓ               0\n間取り_３Ｋ                  0\n間取り_３ＬＤＫ                0\n間取り_３ＬＤＫ＋Ｋ              0\n間取り_３ＬＤＫ＋Ｓ              0\n間取り_３ＬＫ                 0\n間取り_４ＤＫ                 0\n間取り_４Ｋ                  0\n間取り_４ＬＤＫ                0\n                   ...   \n市区町村名_日野市               0\n市区町村名_昭島市               0\n市区町村名_杉並区               0\n市区町村名_東久留米市             0\n市区町村名_東大和市              0\n市区町村名_東村山市              0\n市区町村名_板橋区               0\n市区町村名_武蔵村山市             0\n市区町村名_武蔵野市              0\n市区町村名_江戸川区              0\n市区町村名_江東区               0\n市区町村名_清瀬市               0\n市区町村名_渋谷区               0\n市区町村名_港区                0\n市区町村名_狛江市               0\n市区町村名_町田市               0\n市区町村名_目黒区               0\n市区町村名_福生市               0\n市区町村名_稲城市               0\n市区町村名_立川市               0\n市区町村名_練馬区               0\n市区町村名_羽村市               0\n市区町村名_荒川区               0\n市区町村名_葛飾区               0\n市区町村名_西多摩郡瑞穂町           0\n市区町村名_西東京市              0\n市区町村名_調布市               0\n市区町村名_豊島区               0\n市区町村名_足立区               0\n市区町村名_青梅市               0\nName: 0, Length: 87, dtype: object\n"
    }
   ],
   "source": [
    "columns_name_list = [\"最寄駅：距離（分）\", \"面積（㎡）\", \"築年数\", \"建ぺい率（％）\", \"容積率（％）\", \"取引価格（総額）\"]\n",
    "dummy_list = [\"間取り\", \"建物の構造\", \"市区町村名\"]\n",
    "\n",
    "data_added_dummies = pd.concat([data_added_building_age[columns_name_list], pd.get_dummies(data_added_building_age[dummy_list], drop_first=True)], axis=1)\n",
    "\n",
    "print(data_added_dummies.shape)\n",
    "print(data_added_dummies.iloc[0])"
   ]
  },
  {
   "cell_type": "code",
   "execution_count": null,
   "metadata": {},
   "outputs": [],
   "source": []
  }
 ]
}