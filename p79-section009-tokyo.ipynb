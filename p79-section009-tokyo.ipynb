{
 "nbformat": 4,
 "nbformat_minor": 2,
 "metadata": {
  "language_info": {
   "name": "python",
   "codemirror_mode": {
    "name": "ipython",
    "version": 3
   },
   "version": "3.6.2-final"
  },
  "orig_nbformat": 2,
  "file_extension": ".py",
  "mimetype": "text/x-python",
  "name": "python",
  "npconvert_exporter": "python",
  "pygments_lexer": "ipython3",
  "version": 3,
  "kernelspec": {
   "name": "python36264bitanaconda3500pyenv00fbc43cdd1b40f5b2fb14540e8b3948",
   "display_name": "Python 3.6.2 64-bit ('anaconda3-5.0.0': pyenv)"
  }
 },
 "cells": [
  {
   "cell_type": "code",
   "execution_count": 2,
   "metadata": {},
   "outputs": [],
   "source": [
    "import numpy as np\n",
    "import matplotlib as plt\n",
    "import pandas as pd\n",
    "import random\n",
    "%matplotlib inline\n",
    "import seaborn as sns\n",
    "from sklearn.linear_model import LinearRegression\n",
    "from sklearn.model_selection import train_test_split\n",
    "\n",
    "import requests\n",
    "import json\n",
    "import re"
   ]
  },
  {
   "cell_type": "code",
   "execution_count": 5,
   "metadata": {},
   "outputs": [],
   "source": [
    "# url_path = \"https://www.land.mlit.go.jp/webland/api/TradeListSearch?from=20171&to=20184&area=13\"\n",
    "# request_result = requests.get(url_path)\n",
    "# data_json = request_result.json()[\"data\"]\n",
    "# print(len(data_json))\n",
    "# print(data_json[0])"
   ]
  },
  {
   "cell_type": "code",
   "execution_count": 11,
   "metadata": {},
   "outputs": [],
   "source": [
    "# data_pd = pd.io.json.json_normalize(data_json)\n",
    "# print(data_pd.shape)\n",
    "# print(data_pd.head(10))\n",
    "# https://www.land.mlit.go.jp/webland/api.html\n",
    "# https://www.land.mlit.go.jp/webland/download.html"
   ]
  },
  {
   "cell_type": "code",
   "execution_count": 15,
   "metadata": {},
   "outputs": [
    {
     "name": "stdout",
     "output_type": "stream",
     "text": "['中古マンション等' '宅地(土地と建物)' '宅地(土地)' '林地' '農地']\n"
    }
   ],
   "source": [
    "data_from_csv = pd.read_csv(\"data/13_Tokyo_20171_20184.csv\", encoding='cp932')\n",
    "# print(data_from_csv.shape)\n",
    "# print(data_from_csv.iloc[0])\n",
    "# print(data_from_csv.head(10))\n",
    "print(data_from_csv[\"種類\"].unique())"
   ]
  },
  {
   "cell_type": "code",
   "execution_count": null,
   "metadata": {},
   "outputs": [],
   "source": []
  }
 ]
}