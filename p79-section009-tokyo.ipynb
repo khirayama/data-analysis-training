{
 "nbformat": 4,
 "nbformat_minor": 2,
 "metadata": {
  "language_info": {
   "name": "python",
   "codemirror_mode": {
    "name": "ipython",
    "version": 3
   },
   "version": "3.6.2-final"
  },
  "orig_nbformat": 2,
  "file_extension": ".py",
  "mimetype": "text/x-python",
  "name": "python",
  "npconvert_exporter": "python",
  "pygments_lexer": "ipython3",
  "version": 3,
  "kernelspec": {
   "name": "python36264bitanaconda3500pyenv00fbc43cdd1b40f5b2fb14540e8b3948",
   "display_name": "Python 3.6.2 64-bit ('anaconda3-5.0.0': pyenv)"
  }
 },
 "cells": [
  {
   "cell_type": "code",
   "execution_count": 2,
   "metadata": {},
   "outputs": [],
   "source": [
    "import numpy as np\n",
    "import matplotlib as plt\n",
    "import pandas as pd\n",
    "import random\n",
    "%matplotlib inline\n",
    "import seaborn as sns\n",
    "from sklearn.linear_model import LinearRegression\n",
    "from sklearn.model_selection import train_test_split\n",
    "\n",
    "import requests\n",
    "import json\n",
    "import re"
   ]
  },
  {
   "cell_type": "code",
   "execution_count": 5,
   "metadata": {},
   "outputs": [],
   "source": [
    "# url_path = \"https://www.land.mlit.go.jp/webland/api/TradeListSearch?from=20171&to=20184&area=13\"\n",
    "# request_result = requests.get(url_path)\n",
    "# data_json = request_result.json()[\"data\"]\n",
    "# print(len(data_json))\n",
    "# print(data_json[0])"
   ]
  },
  {
   "cell_type": "code",
   "execution_count": 11,
   "metadata": {},
   "outputs": [],
   "source": [
    "# data_pd = pd.io.json.json_normalize(data_json)\n",
    "# print(data_pd.shape)\n",
    "# print(data_pd.head(10))\n",
    "# https://www.land.mlit.go.jp/webland/api.html\n",
    "# https://www.land.mlit.go.jp/webland/download.html"
   ]
  },
  {
   "cell_type": "code",
   "execution_count": 15,
   "metadata": {},
   "outputs": [
    {
     "name": "stdout",
     "output_type": "stream",
     "text": "['中古マンション等' '宅地(土地と建物)' '宅地(土地)' '林地' '農地']\n"
    }
   ],
   "source": [
    "data_from_csv = pd.read_csv(\"data/13_Tokyo_20171_20184.csv\", encoding='cp932')\n",
    "# print(data_from_csv.shape)\n",
    "# print(data_from_csv.iloc[0])\n",
    "# print(data_from_csv.head(10))\n",
    "# print(data_from_csv[\"種類\"].unique())"
   ]
  },
  {
   "cell_type": "code",
   "execution_count": 19,
   "metadata": {},
   "outputs": [
    {
     "name": "stdout",
     "output_type": "stream",
     "text": "(30956, 30)\nNo                0\n種類                0\n地域            30956\n市区町村コード           0\n都道府県名             0\n市区町村名             0\n地区名               0\n最寄駅：名称            1\n最寄駅：距離（分）        32\n取引価格（総額）          0\n坪単価           30956\n間取り            1263\n面積（㎡）             0\n取引価格（㎡単価）     30956\n土地の形状         30956\n間口            30956\n延床面積（㎡）       30956\n建築年             851\n建物の構造           599\n用途             8175\n今後の利用目的        1453\n前面道路：方位       30956\n前面道路：種類       30956\n前面道路：幅員（ｍ）    30956\n都市計画            344\n建ぺい率（％）         425\n容積率（％）          425\n取引時点              0\n改装             3721\n取引の事情等        30690\ndtype: int64\n"
    }
   ],
   "source": [
    "data_used_apartment = data_from_csv.query('種類 == \"中古マンション等\"')\n",
    "print(data_used_apartment.shape)\n",
    "print(data_used_apartment.isnull().sum())"
   ]
  },
  {
   "cell_type": "code",
   "execution_count": null,
   "metadata": {},
   "outputs": [],
   "source": []
  }
 ]
}