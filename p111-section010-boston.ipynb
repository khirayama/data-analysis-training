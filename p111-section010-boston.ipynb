{
 "nbformat": 4,
 "nbformat_minor": 2,
 "metadata": {
  "language_info": {
   "name": "python",
   "codemirror_mode": {
    "name": "ipython",
    "version": 3
   },
   "version": "3.6.2-final"
  },
  "orig_nbformat": 2,
  "file_extension": ".py",
  "mimetype": "text/x-python",
  "name": "python",
  "npconvert_exporter": "python",
  "pygments_lexer": "ipython3",
  "version": 3,
  "kernelspec": {
   "name": "python36264bitanaconda3500pyenv00fbc43cdd1b40f5b2fb14540e8b3948",
   "display_name": "Python 3.6.2 64-bit ('anaconda3-5.0.0': pyenv)"
  }
 },
 "cells": [
  {
   "cell_type": "code",
   "execution_count": 1,
   "metadata": {},
   "outputs": [],
   "source": [
    "import numpy as np\n",
    "import pandas as pd\n",
    "import matplotlib.pyplot as plt\n",
    "%matplotlib inline\n",
    "import seaborn as sns\n",
    "from sklearn.linear_model import LinearRegression, Ridge, Lasso\n",
    "from sklearn.datasets import load_boston\n",
    "from sklearn.metrics import mean_absolute_error\n",
    "from sklearn.model_selection import train_test_split"
   ]
  },
  {
   "cell_type": "code",
   "execution_count": 3,
   "metadata": {},
   "outputs": [
    {
     "name": "stdout",
     "output_type": "stream",
     "text": "[[ -1.07170557e-01   4.63952195e-02   2.08602395e-02   2.68856140e+00\n   -1.77957587e+01   3.80475246e+00   7.51061703e-04  -1.47575880e+00\n    3.05655038e-01  -1.23293463e-02  -9.53463555e-01   9.39251272e-03\n   -5.25466633e-01]]\n[ 36.49110328]\n"
    }
   ],
   "source": [
    "boston = load_boston()\n",
    "data_boston = pd.DataFrame(boston.data, columns=boston.feature_names)\n",
    "data_boston['PRICE'] = boston.target\n",
    "\n",
    "lr_multi = LinearRegression()\n",
    "\n",
    "x_column_list_for_multi = ['CRIM', 'ZN', 'INDUS', 'CHAS', 'NOX', 'RM', 'AGE', 'DIS', 'RAD', 'TAX', 'PTRATIO', 'B', 'LSTAT']\n",
    "y_column_list_for_multi = ['PRICE']\n",
    "\n",
    "lr_multi.fit(data_boston[x_column_list_for_multi], data_boston[y_column_list_for_multi])\n",
    "print(lr_multi.coef_)\n",
    "print(lr_multi.intercept_)"
   ]
  },
  {
   "cell_type": "code",
   "execution_count": null,
   "metadata": {},
   "outputs": [],
   "source": []
  }
 ]
}