{
 "nbformat": 4,
 "nbformat_minor": 2,
 "metadata": {
  "language_info": {
   "name": "python",
   "codemirror_mode": {
    "name": "ipython",
    "version": 3
   },
   "version": "3.6.2-final"
  },
  "orig_nbformat": 2,
  "file_extension": ".py",
  "mimetype": "text/x-python",
  "name": "python",
  "npconvert_exporter": "python",
  "pygments_lexer": "ipython3",
  "version": 3,
  "kernelspec": {
   "name": "python36264bitanaconda3500pyenv00fbc43cdd1b40f5b2fb14540e8b3948",
   "display_name": "Python 3.6.2 64-bit ('anaconda3-5.0.0': pyenv)"
  }
 },
 "cells": [
  {
   "cell_type": "code",
   "execution_count": 1,
   "metadata": {},
   "outputs": [],
   "source": [
    "import numpy as np\n",
    "import pandas as pd\n",
    "import matplotlib.pyplot as plt\n",
    "%matplotlib inline\n",
    "import seaborn as sns\n",
    "from sklearn.linear_model import LinearRegression, Ridge, Lasso\n",
    "from sklearn.datasets import load_boston\n",
    "from sklearn.metrics import mean_absolute_error\n",
    "from sklearn.model_selection import train_test_split"
   ]
  },
  {
   "cell_type": "code",
   "execution_count": 3,
   "metadata": {},
   "outputs": [
    {
     "name": "stdout",
     "output_type": "stream",
     "text": "[[ -1.07170557e-01   4.63952195e-02   2.08602395e-02   2.68856140e+00\n   -1.77957587e+01   3.80475246e+00   7.51061703e-04  -1.47575880e+00\n    3.05655038e-01  -1.23293463e-02  -9.53463555e-01   9.39251272e-03\n   -5.25466633e-01]]\n[ 36.49110328]\n"
    }
   ],
   "source": [
    "boston = load_boston()\n",
    "data_boston = pd.DataFrame(boston.data, columns=boston.feature_names)\n",
    "data_boston['PRICE'] = boston.target\n",
    "\n",
    "lr_multi = LinearRegression()\n",
    "\n",
    "x_column_list_for_multi = ['CRIM', 'ZN', 'INDUS', 'CHAS', 'NOX', 'RM', 'AGE', 'DIS', 'RAD', 'TAX', 'PTRATIO', 'B', 'LSTAT']\n",
    "y_column_list_for_multi = ['PRICE']\n",
    "\n",
    "lr_multi.fit(data_boston[x_column_list_for_multi], data_boston[y_column_list_for_multi])\n",
    "# print(lr_multi.coef_)\n",
    "# print(lr_multi.intercept_)"
   ]
  },
  {
   "cell_type": "code",
   "execution_count": 5,
   "metadata": {},
   "outputs": [
    {
     "name": "stdout",
     "output_type": "stream",
     "text": "[[ -1.30690393e-01   3.55703738e-02   4.54397794e-02   3.17267400e+00\n   -1.71996513e+01   4.67766194e+00   4.73103218e-03  -1.25288346e+00\n    3.69600987e-01  -1.13441525e-02  -8.83618095e-01   1.12686477e-02\n   -5.10513957e-01]]\n[ 26.73189146]\n         PRICE\n454   1.926528\n335  -0.250752\n433   4.196072\n436   6.057835\n441   2.143529\n501   1.268940\n139  -0.895653\n38   -2.093764\n358   1.808243\n132  -2.271475\n31    3.844293\n83    1.981907\n449   6.087633\n164   1.802715\n315   4.070450\n169   4.385032\n50    1.511992\n407  -7.131084\n457   0.241219\n81    3.411424\n47    1.669961\n379   8.108007\n414 -12.227646\n239   5.403033\n474   3.628206\n212   0.510792\n120  -0.367094\n394   6.533412\n134  -2.365763\n461   4.533055\n..         ...\n261  -5.720045\n220   7.623055\n286  -0.361550\n244  -0.919176\n227   1.591472\n464   0.693938\n320   1.453546\n345  -0.380565\n32   -4.397495\n68   -0.146136\n281  -0.920608\n1     3.640237\n400   7.521593\n36    1.935091\n109   0.616869\n159   2.486394\n401  12.310823\n475   4.469372\n313   3.975102\n428   4.396039\n296   0.864993\n271   1.526441\n156  -0.803037\n317  -1.566564\n385   1.688578\n495  -6.597332\n342   5.938962\n462   2.233416\n476   5.936114\n325   0.444982\n\n[152 rows x 1 columns]\n3.58700260949\n"
    }
   ],
   "source": [
    "X_train, X_test, y_train, y_test = train_test_split(data_boston[x_column_list_for_multi], data_boston[y_column_list_for_multi], test_size=0.3)\n",
    "lr_multi2 = LinearRegression()\n",
    "\n",
    "lr_multi2.fit(X_train, y_train)\n",
    "print(lr_multi2.coef_)\n",
    "print(lr_multi2.intercept_)\n",
    "\n",
    "y_pred = lr_multi2.predict(X_test)\n",
    "\n",
    "print(y_pred-y_test)\n",
    "\n",
    "print(mean_absolute_error(y_pred, y_test))"
   ]
  },
  {
   "cell_type": "code",
   "execution_count": null,
   "metadata": {},
   "outputs": [],
   "source": []
  }
 ]
}