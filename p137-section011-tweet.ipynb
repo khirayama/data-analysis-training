{
 "nbformat": 4,
 "nbformat_minor": 2,
 "metadata": {
  "language_info": {
   "name": "python",
   "codemirror_mode": {
    "name": "ipython",
    "version": 3
   },
   "version": "3.7.4-final"
  },
  "orig_nbformat": 2,
  "file_extension": ".py",
  "mimetype": "text/x-python",
  "name": "python",
  "npconvert_exporter": "python",
  "pygments_lexer": "ipython3",
  "version": 3,
  "kernelspec": {
   "name": "python37464bitbasecondacff26f216ef14249968ccd05a5296b34",
   "display_name": "Python 3.7.4 64-bit ('base': conda)"
  }
 },
 "cells": [
  {
   "cell_type": "code",
   "execution_count": 1,
   "metadata": {},
   "outputs": [],
   "source": [
    "import MeCab"
   ]
  },
  {
   "cell_type": "code",
   "execution_count": 2,
   "metadata": {},
   "outputs": [
    {
     "name": "stdout",
     "output_type": "stream",
     "text": "BOS/EOS,*,*,*,*,*,*,*,*\nAKB 名詞,一般,*,*,*,*,*\n48 名詞,数,*,*,*,*,*\nより 助詞,格助詞,一般,*,*,*,より,ヨリ,ヨリ\nも 助詞,係助詞,*,*,*,*,も,モ,モ\n乃木坂 名詞,固有名詞,一般,*,*,*,乃木坂,ノギザカ,ノギザカ\nの 助詞,連体化,*,*,*,*,の,ノ,ノ\nほう 名詞,非自立,一般,*,*,*,ほう,ホウ,ホー\nが 助詞,格助詞,一般,*,*,*,が,ガ,ガ\n好き 名詞,形容動詞語幹,*,*,*,*,好き,スキ,スキ\n BOS/EOS,*,*,*,*,*,*,*,*\n"
    }
   ],
   "source": [
    "# tagger = MeCab.Tagger()\n",
    "# tagger.parse('')\n",
    "\n",
    "# node = tagger.parseToNode('AKB48よりも乃木坂のほうが好き')\n",
    "# while node:\n",
    "#     print(node.surface, node.feature)\n",
    "#     node = node.next"
   ]
  },
  {
   "cell_type": "code",
   "execution_count": null,
   "metadata": {},
   "outputs": [],
   "source": []
  }
 ]
}