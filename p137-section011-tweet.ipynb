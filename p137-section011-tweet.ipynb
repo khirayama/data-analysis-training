{
 "nbformat": 4,
 "nbformat_minor": 2,
 "metadata": {
  "language_info": {
   "name": "python",
   "codemirror_mode": {
    "name": "ipython",
    "version": 3
   },
   "version": "3.7.4-final"
  },
  "orig_nbformat": 2,
  "file_extension": ".py",
  "mimetype": "text/x-python",
  "name": "python",
  "npconvert_exporter": "python",
  "pygments_lexer": "ipython3",
  "version": 3,
  "kernelspec": {
   "name": "python37464bitbasecondacff26f216ef14249968ccd05a5296b34",
   "display_name": "Python 3.7.4 64-bit ('base': conda)"
  }
 },
 "cells": [
  {
   "cell_type": "code",
   "execution_count": 21,
   "metadata": {},
   "outputs": [],
   "source": [
    "import MeCab\n",
    "import pandas as pd\n",
    "from sklearn.model_selection import train_test_split\n",
    "from sklearn.linear_model import LogisticRegression\n",
    "from sklearn.metrics import accuracy_score"
   ]
  },
  {
   "cell_type": "code",
   "execution_count": 7,
   "metadata": {},
   "outputs": [],
   "source": [
    "# tagger = MeCab.Tagger()\n",
    "# tagger.parse('')\n",
    "\n",
    "# node = tagger.parseToNode('AKB48よりも乃木坂のほうが好き')\n",
    "# while node:\n",
    "#     print(node.surface, node.feature)\n",
    "#     node = node.next"
   ]
  },
  {
   "cell_type": "code",
   "execution_count": 9,
   "metadata": {},
   "outputs": [],
   "source": [
    "data_tweet = pd.read_csv('data/tweets.tsv', sep=\"\\t\")\n",
    "data_tweet = data_tweet.dropna()\n",
    "y = data_tweet.iloc[:, 1].values"
   ]
  },
  {
   "cell_type": "code",
   "execution_count": 11,
   "metadata": {},
   "outputs": [],
   "source": [
    "tagger = MeCab.Tagger()\n",
    "tagger.parse('')\n",
    "\n",
    "def word_tokenize(texts):\n",
    "    node = tagger.parseToNode(texts)\n",
    "    word_list = []\n",
    "    while node:\n",
    "        word_type = node.feature.split(\",\")[0]\n",
    "        if (word_type == '名詞')|(word_type == '形容詞'):\n",
    "            word = node.feature.split(\",\")[6]\n",
    "            if word != '*':\n",
    "                word_list.append(word)\n",
    "        node = node.next\n",
    "    return word_list"
   ]
  },
  {
   "cell_type": "code",
   "execution_count": 17,
   "metadata": {},
   "outputs": [],
   "source": [
    "from sklearn.feature_extraction.text import TfidfVectorizer\n",
    "from sklearn.tree import DecisionTreeClassifier\n",
    "from sklearn.model_selection import StratifiedKFold\n",
    "\n",
    "vectorizer = TfidfVectorizer(tokenizer=word_tokenize)\n",
    "tweet_matrix = vectorizer.fit_transform(data_tweet.iloc[:,0])\n",
    "X = tweet_matrix.toarray()\n",
    "# print(X.shape)"
   ]
  },
  {
   "cell_type": "code",
   "execution_count": 20,
   "metadata": {},
   "outputs": [
    {
     "name": "stdout",
     "output_type": "stream",
     "text": "[[-0.06792689  0.52623766  0.         ...  0.09069702 -0.05278045\n  -0.03756557]]\n[-1.1705842]\n"
    }
   ],
   "source": [
    "X_train, X_test, y_train, y_test = train_test_split(X, y, test_size=0.2)\n",
    "\n",
    "logit_multi2 = LogisticRegression()\n",
    "logit_multi2.fit(X_train, y_train)\n",
    "\n",
    "# print(logit_multi2.coef_)\n",
    "# print(logit_multi2.intercept_)"
   ]
  },
  {
   "cell_type": "code",
   "execution_count": 22,
   "metadata": {},
   "outputs": [
    {
     "name": "stdout",
     "output_type": "stream",
     "text": "0.9447513812154696\n"
    }
   ],
   "source": [
    "y_pred = logit_multi2.predict(X_test)\n",
    "print(accuracy_score(y_test, y_pred))"
   ]
  },
  {
   "cell_type": "code",
   "execution_count": null,
   "metadata": {},
   "outputs": [],
   "source": []
  }
 ]
}