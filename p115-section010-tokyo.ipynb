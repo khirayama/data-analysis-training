{
 "nbformat": 4,
 "nbformat_minor": 2,
 "metadata": {
  "language_info": {
   "name": "python",
   "codemirror_mode": {
    "name": "ipython",
    "version": 3
   },
   "version": "3.6.2-final"
  },
  "orig_nbformat": 2,
  "file_extension": ".py",
  "mimetype": "text/x-python",
  "name": "python",
  "npconvert_exporter": "python",
  "pygments_lexer": "ipython3",
  "version": 3,
  "kernelspec": {
   "name": "python36264bitanaconda3500pyenv00fbc43cdd1b40f5b2fb14540e8b3948",
   "display_name": "Python 3.6.2 64-bit ('anaconda3-5.0.0': pyenv)"
  }
 },
 "cells": [
  {
   "cell_type": "code",
   "execution_count": 1,
   "metadata": {},
   "outputs": [],
   "source": [
    "import numpy as np\n",
    "import pandas as pd\n",
    "import matplotlib.pyplot as plt\n",
    "import random\n",
    "%matplotlib inline\n",
    "import seaborn as sns\n",
    "from sklearn.linear_model import LinearRegression, Ridge, Lasso\n",
    "from sklearn.metrics import mean_absolute_error\n",
    "from sklearn.model_selection import train_test_split\n",
    "\n",
    "import requests\n",
    "import json\n",
    "import re"
   ]
  },
  {
   "cell_type": "code",
   "execution_count": 2,
   "metadata": {},
   "outputs": [],
   "source": [
    "data_from_csv = pd.read_csv(\"data/13_Tokyo_20171_20184.csv\", encoding='cp932')\n",
    "data_used_apartment = data_from_csv.query('種類 == \"中古マンション等\"')\n",
    "\n",
    "columns_name_list = [\"最寄駅：距離（分）\", \"間取り\", \"面積（㎡）\", \"建築年\", \"建物の構造\", \"建ぺい率（％）\", \"容積率（％）\", \"市区町村名\", \"取引価格（総額）\"]\n",
    "\n",
    "data_selected = data_used_apartment[columns_name_list]\n",
    "data_selected_dropna = data_selected.dropna(how='any')\n",
    "# print(data_selected_dropna[\"建築年\"].unique())\n",
    "\n",
    "data_selected_dropna = data_selected_dropna[data_selected_dropna[\"建築年\"].str.match('^平成|昭和')]\n",
    "# print(data_selected_dropna[\"建築年\"].unique())\n",
    "\n",
    "wareki_to_seireki = {'昭和': 1926-1, '平成': 1989-1}\n",
    "\n",
    "building_year_list = data_selected_dropna[\"建築年\"]\n",
    "\n",
    "building_age_list = []\n",
    "for building_year in building_year_list:\n",
    "    # 昭和x年 -> 昭和, xに変換、平成x年 -> 平成, xに変換\n",
    "    building_year_split = re.search(r'(.+?)([0-9]+|元)年', building_year)\n",
    "    # 西暦に変換\n",
    "    seireki = wareki_to_seireki[building_year_split.groups()[0]] + int(building_year_split.groups()[1])\n",
    "\n",
    "    building_age = 2019 - seireki\n",
    "    building_age_list.append(building_age)\n",
    "\n",
    "data_selected_dropna[\"築年数\"] = building_age_list\n",
    "data_added_building_age = data_selected_dropna.drop(\"建築年\", axis=1)"
   ]
  },
  {
   "cell_type": "code",
   "execution_count": null,
   "metadata": {},
   "outputs": [],
   "source": []
  }
 ]
}